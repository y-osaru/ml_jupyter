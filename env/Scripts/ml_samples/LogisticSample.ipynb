{
 "cells": [
  {
   "cell_type": "code",
   "execution_count": 1,
   "metadata": {},
   "outputs": [],
   "source": [
    "%matplotlib inline"
   ]
  },
  {
   "cell_type": "code",
   "execution_count": 4,
   "metadata": {},
   "outputs": [],
   "source": [
    "import numpy as np\n",
    "import matplotlib.pyplot as plt\n",
    "from sklearn import datasets\n",
    "from sklearn.linear_model import LogisticRegression\n",
    "\n",
    "#データ生成：異なる2つの乱数群を行方向に結合し、100x1の2次元配列にする\n",
    "X_train = np.r_[np.random.normal(3,1,size=50),np.random.normal(-1,1,size=50)].reshape((100,-1))\n",
    "#前半50個が1、後半50個が0の配列\n",
    "y_train = np.r_[np.ones(50),np.zeros(50)]"
   ]
  },
  {
   "cell_type": "code",
   "execution_count": 6,
   "metadata": {},
   "outputs": [
    {
     "data": {
      "text/plain": [
       "<matplotlib.legend.Legend at 0x2307f89bc50>"
      ]
     },
     "execution_count": 6,
     "metadata": {},
     "output_type": "execute_result"
    },
    {
     "data": {
      "image/png": "[encoded data removed]",
      "text/plain": [
       "<Figure size 432x288 with 1 Axes>"
      ]
     },
     "metadata": {
      "needs_background": "light"
     },
     "output_type": "display_data"
    }
   ],
   "source": [
    "#散布図\n",
    "X_1 = X_train[:50,]\n",
    "X_0 = X_train[50:,]\n",
    "y_1 = y_train[:50,]\n",
    "y_0 = y_train[50:,]\n",
    "\n",
    "fig, ax = plt.subplots()\n",
    "ax.set_title(\"logistic_sample\")\n",
    "ax.scatter(X_1,y_1,color=\"red\",label=\"one\")\n",
    "ax.scatter(X_0,y_0,color=\"blue\",label=\"zero\")\n",
    "ax.grid()\n",
    "ax.legend()"
   ]
  },
  {
   "cell_type": "code",
   "execution_count": 8,
   "metadata": {},
   "outputs": [
    {
     "name": "stdout",
     "output_type": "stream",
     "text": [
      "[[2.46278904]]\n",
      "[-2.96561788]\n"
     ]
    }
   ],
   "source": [
    "#モデル作成\n",
    "model = LogisticRegression()\n",
    "model.fit(X_train,y_train)\n",
    "\n",
    "#回帰係数と切片\n",
    "print(model.coef_)\n",
    "print(model.intercept_)"
   ]
  },
  {
   "cell_type": "code",
   "execution_count": 15,
   "metadata": {},
   "outputs": [
    {
     "data": {
      "text/plain": [
       "<matplotlib.legend.Legend at 0x2307f916320>"
      ]
     },
     "execution_count": 15,
     "metadata": {},
     "output_type": "execute_result"
    },
    {
     "data": {
      "image/png": "[encoded data removed]",
      "text/plain": [
       "<Figure size 432x288 with 1 Axes>"
      ]
     },
     "metadata": {
      "needs_background": "light"
     },
     "output_type": "display_data"
    }
   ],
   "source": [
    "#決定境界を図示したいが、特徴量が1個の時ってどうする？同じ値(X,X)で良いのかな？\n",
    "fig, ax = plt.subplots()\n",
    "ax.set_title(\"logistic_sample\")\n",
    "\n",
    "ax.scatter(X_1,y_1,color=\"red\",label=\"one\")\n",
    "ax.scatter(X_0,y_0,color=\"blue\",label=\"zero\")\n",
    "#グラフ用の格子点を生成\n",
    "grid_line = np.arange(-3,5,0.01)\n",
    "X, Y = np.meshgrid(grid_line,grid_line)\n",
    "Z = model.predict(np.array([X.ravel()]).T) #予測確率※revelは多次元配列を1次元にする\n",
    "Z = Z.reshape(X.shape)\n",
    "#等高線を図示\n",
    "ax.contourf(X,Y,Z,alpha=0.4,cmap=\"coolwarm\")\n",
    "ax.grid()\n",
    "ax.legend()"
   ]
  }
 ],
 "metadata": {
  "kernelspec": {
   "display_name": "Python 3",
   "language": "python",
   "name": "python3"
  },
  "language_info": {
   "codemirror_mode": {
    "name": "ipython",
    "version": 3
   },
   "file_extension": ".py",
   "mimetype": "text/x-python",
   "name": "python",
   "nbconvert_exporter": "python",
   "pygments_lexer": "ipython3",
   "version": "3.7.1"
  }
 },
 "nbformat": 4,
 "nbformat_minor": 4
}
